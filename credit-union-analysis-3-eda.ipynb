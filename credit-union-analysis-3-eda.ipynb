{
 "cells": [
  {
   "cell_type": "code",
   "execution_count": null,
   "id": "6a87175b-9977-4017-bfad-df41d73523e1",
   "metadata": {},
   "outputs": [],
   "source": [
    "import pandas as pd\n",
    "import numpy as np\n",
    "import seaborn as sns\n",
    "import matplotlib.pyplot as plt\n",
    "import warnings\n"
   ]
  },
  {
   "cell_type": "code",
   "execution_count": null,
   "id": "2141eb2e-229e-40c6-ba35-fb24de8f92d8",
   "metadata": {},
   "outputs": [],
   "source": [
    "# Load the cleaned dataset\n",
    "df = pd.read_csv('cleaned_credit_union_data.csv')\n",
    "\n",
    "# Correct Zip code datatype\n",
    "df['Zip code (Mailing address)'] = df['Zip code (Mailing address)'].astype(int).astype(str).str.zfill(5)"
   ]
  },
  {
   "cell_type": "code",
   "execution_count": null,
   "id": "04236d17-6724-4ebe-a8bd-5e5800a2e1b8",
   "metadata": {},
   "outputs": [],
   "source": [
    "# Load first few rows and check size of dataframe to confirm successul load.\n",
    "\n",
    "pd.set_option('display.max_columns', None)\n",
    "print(f\"Dataframe is {df.shape[0]} rows deep and {df.shape[1]} columns wide.\")\n",
    "display(df.head(3))"
   ]
  },
  {
   "cell_type": "code",
   "execution_count": null,
   "id": "83d4e0aa-2619-4749-9727-49b609e87429",
   "metadata": {},
   "outputs": [],
   "source": [
    "# Correlation Ma\n",
    "warnings.filterwarnings('ignore')\n",
    "warnings.simplefilter('ignore')\n",
    "\n",
    "# Load the cleaned dataset\n",
    "df = pd.read_csv('cleaned_credit_union_data.csv')\n",
    "\n",
    "# Define columns for correlation analysis with updated names\n",
    "all_corr_columns = [\n",
    "    'Members', 'Total assets', 'Total loans', 'Total deposits', \n",
    "    'Return on average assets', 'Net worth ratio (excludes CECL transition provision)', \n",
    "    'Loan-to-share ratio', 'Total deposits, 4 quarter growth  (%)', \n",
    "    'Total loans,  4 quarter growth  (%)', 'Total assets,  4 quarter growth  (%)',\n",
    "    'Members, 4 quarter growth  (%)', 'Net worth,  4 quarter growth (excludes CECL transition provision) (%)'\n",
    "]\n",
    "\n",
    "# Select relevant columns for correlation analysis\n",
    "df_all_corr = df[all_corr_columns]\n",
    "\n",
    "# Rename columns as specified\n",
    "df_all_corr.rename(columns={\n",
    "    'Net worth ratio (excludes CECL transition provision)': 'Net worth ratio',\n",
    "    'Total deposits, 4 quarter growth  (%)': 'Total deposits (Q4 growth %)',\n",
    "    'Total loans,  4 quarter growth  (%)': 'Total loans (Q4 growth %)',\n",
    "    'Total assets,  4 quarter growth  (%)': 'Total assets (Q4 growth %)',\n",
    "    'Members, 4 quarter growth  (%)': 'Members (Q4 growth %)',\n",
    "    'Net worth,  4 quarter growth (excludes CECL transition provision) (%)': 'Net worth (Q4 growth %)'\n",
    "}, inplace=True)\n",
    "\n",
    "# Calculate the correlation matrix\n",
    "all_corr_matrix = df_all_corr.corr()\n",
    "\n",
    "# Generate a mask for the upper triangle\n",
    "mask = np.triu(np.ones_like(all_corr_matrix, dtype=bool))\n",
    "\n",
    "# Set up the matplotlib figure\n",
    "plt.figure(figsize=(10, 5))\n",
    "\n",
    "# Set color palette\n",
    "cmap = sns.color_palette(\"coolwarm\", as_cmap=True)\n",
    "\n",
    "# Draw the heatmap with annotations\n",
    "sns.heatmap(all_corr_matrix, mask=mask, vmin=-1, vmax=1, center=0, annot=True, fmt=\".2f\", cmap=cmap, linewidths=.5)\n",
    "\n",
    "# Add titles and labels\n",
    "plt.title('Correlation Matrix of Credit Union Metrics', fontsize=12, weight='bold')\n",
    "plt.show()\n"
   ]
  }
 ],
 "metadata": {
  "kernelspec": {
   "display_name": "Python 3 (ipykernel)",
   "language": "python",
   "name": "python3"
  },
  "language_info": {
   "codemirror_mode": {
    "name": "ipython",
    "version": 3
   },
   "file_extension": ".py",
   "mimetype": "text/x-python",
   "name": "python",
   "nbconvert_exporter": "python",
   "pygments_lexer": "ipython3",
   "version": "3.11.5"
  }
 },
 "nbformat": 4,
 "nbformat_minor": 5
}
